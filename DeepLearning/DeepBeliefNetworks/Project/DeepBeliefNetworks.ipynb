{
 "cells": [
  {
   "cell_type": "markdown",
   "id": "7e0bb776-3e0c-4f43-b73d-98c59e3e2765",
   "metadata": {},
   "source": [
    "# Deep Belief Networks (DBNs)"
   ]
  },
  {
   "cell_type": "code",
   "execution_count": null,
   "id": "8af49051-b996-4807-9cb9-e702a81354c7",
   "metadata": {},
   "outputs": [],
   "source": []
  }
 ],
 "metadata": {
  "kernelspec": {
   "display_name": "Python 3 (ipykernel)",
   "language": "python",
   "name": "python3"
  },
  "language_info": {
   "codemirror_mode": {
    "name": "ipython",
    "version": 3
   },
   "file_extension": ".py",
   "mimetype": "text/x-python",
   "name": "python",
   "nbconvert_exporter": "python",
   "pygments_lexer": "ipython3",
   "version": "3.8.8"
  }
 },
 "nbformat": 4,
 "nbformat_minor": 5
}
