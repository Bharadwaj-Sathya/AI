{
 "cells": [
  {
   "cell_type": "markdown",
   "id": "382117b9-64e2-4cba-8c5e-e51575dc444d",
   "metadata": {},
   "source": [
    "# Long Short Term Memory Networks (LSTMs)"
   ]
  },
  {
   "cell_type": "code",
   "execution_count": null,
   "id": "0d6195db-0bb4-447a-b7b8-1bba51568786",
   "metadata": {},
   "outputs": [],
   "source": []
  }
 ],
 "metadata": {
  "kernelspec": {
   "display_name": "Python 3 (ipykernel)",
   "language": "python",
   "name": "python3"
  },
  "language_info": {
   "codemirror_mode": {
    "name": "ipython",
    "version": 3
   },
   "file_extension": ".py",
   "mimetype": "text/x-python",
   "name": "python",
   "nbconvert_exporter": "python",
   "pygments_lexer": "ipython3",
   "version": "3.8.8"
  }
 },
 "nbformat": 4,
 "nbformat_minor": 5
}
