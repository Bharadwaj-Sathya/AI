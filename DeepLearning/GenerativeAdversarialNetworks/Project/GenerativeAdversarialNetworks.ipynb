{
 "cells": [
  {
   "cell_type": "markdown",
   "id": "76b46e99-ff2c-4d3f-93bb-2f5e1eb58c71",
   "metadata": {},
   "source": [
    "# Generative Adversarial Networks (GANs)"
   ]
  },
  {
   "cell_type": "code",
   "execution_count": null,
   "id": "421cb1b1-360e-4889-a5b6-eacebecf5474",
   "metadata": {},
   "outputs": [],
   "source": []
  }
 ],
 "metadata": {
  "kernelspec": {
   "display_name": "Python 3 (ipykernel)",
   "language": "python",
   "name": "python3"
  },
  "language_info": {
   "codemirror_mode": {
    "name": "ipython",
    "version": 3
   },
   "file_extension": ".py",
   "mimetype": "text/x-python",
   "name": "python",
   "nbconvert_exporter": "python",
   "pygments_lexer": "ipython3",
   "version": "3.8.8"
  }
 },
 "nbformat": 4,
 "nbformat_minor": 5
}
