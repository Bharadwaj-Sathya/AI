{
 "cells": [
  {
   "cell_type": "markdown",
   "id": "9e5d9768-c8fd-4c5c-98a4-6b04b9c8259c",
   "metadata": {},
   "source": [
    "# Radial Basis Functional Networks"
   ]
  },
  {
   "cell_type": "code",
   "execution_count": null,
   "id": "44a2bd8b-0ca9-4903-b81b-973729eb1b97",
   "metadata": {},
   "outputs": [],
   "source": []
  }
 ],
 "metadata": {
  "kernelspec": {
   "display_name": "Python 3 (ipykernel)",
   "language": "python",
   "name": "python3"
  },
  "language_info": {
   "codemirror_mode": {
    "name": "ipython",
    "version": 3
   },
   "file_extension": ".py",
   "mimetype": "text/x-python",
   "name": "python",
   "nbconvert_exporter": "python",
   "pygments_lexer": "ipython3",
   "version": "3.8.8"
  }
 },
 "nbformat": 4,
 "nbformat_minor": 5
}
