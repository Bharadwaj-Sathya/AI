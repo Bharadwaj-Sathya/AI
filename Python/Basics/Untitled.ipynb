{
 "cells": [
  {
   "cell_type": "code",
   "execution_count": 1,
   "id": "6c7e78b9-3b6e-454a-9aef-bb9ad58dbd7e",
   "metadata": {},
   "outputs": [],
   "source": [
    "import numpy as np"
   ]
  },
  {
   "cell_type": "code",
   "execution_count": 2,
   "id": "f7d47203-2e42-4525-b631-6b13a09f6524",
   "metadata": {},
   "outputs": [
    {
     "data": {
      "text/plain": [
       "array([  1, 100,   2,   4,  55,   7,  88,  12])"
      ]
     },
     "execution_count": 2,
     "metadata": {},
     "output_type": "execute_result"
    }
   ],
   "source": [
    "x = np.array([1,100,2,4,55,7,88,12])\n",
    "x"
   ]
  },
  {
   "cell_type": "code",
   "execution_count": 3,
   "id": "58be79d4-229c-4d4d-aa8b-838d7c47c0ff",
   "metadata": {},
   "outputs": [
    {
     "data": {
      "text/plain": [
       "array([0, 2, 3, 5, 7, 4, 6, 1])"
      ]
     },
     "execution_count": 3,
     "metadata": {},
     "output_type": "execute_result"
    }
   ],
   "source": [
    "np.argsort(x)"
   ]
  },
  {
   "cell_type": "code",
   "execution_count": 10,
   "id": "7523c131-2bd4-4673-972d-af9115ac0322",
   "metadata": {},
   "outputs": [
    {
     "data": {
      "text/plain": [
       "array([100,  88])"
      ]
     },
     "execution_count": 10,
     "metadata": {},
     "output_type": "execute_result"
    }
   ],
   "source": [
    "x[np.argsort(x)[-2:][::-1]]"
   ]
  },
  {
   "cell_type": "code",
   "execution_count": 11,
   "id": "2f0ea8a0-a6ce-4dae-b40c-714b42179d38",
   "metadata": {},
   "outputs": [
    {
     "data": {
      "text/plain": [
       "[66, 44, 22, 77, 88, 44, 2, 1]"
      ]
     },
     "execution_count": 11,
     "metadata": {},
     "output_type": "execute_result"
    }
   ],
   "source": [
    "lis = [1,2,44,88,77,22,44,66]\n",
    "lis[::-1]"
   ]
  },
  {
   "cell_type": "code",
   "execution_count": 15,
   "id": "bcd4d34b-049b-444d-8bf3-5d991e8a1f64",
   "metadata": {},
   "outputs": [],
   "source": [
    "lis.sort()"
   ]
  },
  {
   "cell_type": "code",
   "execution_count": 16,
   "id": "4664a488-065b-4799-8b31-32eb8b71bd20",
   "metadata": {},
   "outputs": [
    {
     "data": {
      "text/plain": [
       "[1, 2, 22, 44, 44, 66, 77, 88]"
      ]
     },
     "execution_count": 16,
     "metadata": {},
     "output_type": "execute_result"
    }
   ],
   "source": [
    "lis"
   ]
  },
  {
   "cell_type": "code",
   "execution_count": 17,
   "id": "4ae7db2c-65a7-4049-8849-ad9a560bd0c4",
   "metadata": {},
   "outputs": [],
   "source": [
    "lis.sort(reverse=True)"
   ]
  },
  {
   "cell_type": "code",
   "execution_count": 18,
   "id": "1dd85b9f-e84d-49a2-a3fe-e458d43e5324",
   "metadata": {},
   "outputs": [
    {
     "data": {
      "text/plain": [
       "[88, 77, 66, 44, 44, 22, 2, 1]"
      ]
     },
     "execution_count": 18,
     "metadata": {},
     "output_type": "execute_result"
    }
   ],
   "source": [
    "lis"
   ]
  },
  {
   "cell_type": "code",
   "execution_count": 20,
   "id": "2aaa69dd-5f05-4e7f-88ea-032bbaf58472",
   "metadata": {},
   "outputs": [],
   "source": [
    "x=lambda a: a+10"
   ]
  },
  {
   "cell_type": "code",
   "execution_count": 21,
   "id": "97f49842-349f-46f3-8de2-001a9f37ca40",
   "metadata": {},
   "outputs": [
    {
     "data": {
      "text/plain": [
       "18"
      ]
     },
     "execution_count": 21,
     "metadata": {},
     "output_type": "execute_result"
    }
   ],
   "source": [
    "x(8)"
   ]
  },
  {
   "cell_type": "code",
   "execution_count": 27,
   "id": "a4dbb93d-d6fb-4485-8f60-e47111850d9a",
   "metadata": {},
   "outputs": [],
   "source": [
    "from matplotlib import pyplot as plt"
   ]
  },
  {
   "cell_type": "code",
   "execution_count": 33,
   "id": "80ce32ff-d1b6-487a-9403-2aecad2412de",
   "metadata": {},
   "outputs": [
    {
     "data": {
      "text/plain": [
       "Text(0.5, 1.0, 'Diagram')"
      ]
     },
     "execution_count": 33,
     "metadata": {},
     "output_type": "execute_result"
    },
    {
     "data": {
      "image/png": "[encoded data removed]",
      "text/plain": [
       "<Figure size 432x288 with 1 Axes>"
      ]
     },
     "metadata": {
      "needs_background": "light"
     },
     "output_type": "display_data"
    }
   ],
   "source": [
    "x= np.arange(0,10,1)\n",
    "y= np.arange(0,10,1)\n",
    "plt.plot(x,y)\n",
    "plt.xlabel('x-axis')\n",
    "plt.ylabel('y-axis')\n",
    "plt.title('Diagram')"
   ]
  },
  {
   "cell_type": "code",
   "execution_count": 38,
   "id": "bd337a62-c7bd-40d0-80f1-e8725e1cf805",
   "metadata": {},
   "outputs": [
    {
     "data": {
      "text/plain": [
       "<BarContainer object of 3 artists>"
      ]
     },
     "execution_count": 38,
     "metadata": {},
     "output_type": "execute_result"
    },
    {
     "data": {
      "image/png": "[encoded data removed]",
      "text/plain": [
       "<Figure size 432x288 with 1 Axes>"
      ]
     },
     "metadata": {
      "needs_background": "light"
     },
     "output_type": "display_data"
    }
   ],
   "source": [
    "data={\"apple\":50,\"annana\":20,\"orange\":30}\n",
    "names=list(data.keys())\n",
    "values=list(data.values())\n",
    "plt.bar(names, values)"
   ]
  },
  {
   "cell_type": "code",
   "execution_count": 40,
   "id": "956748d1-1eee-4722-bc2e-88ff926ca48d",
   "metadata": {},
   "outputs": [],
   "source": [
    "class Human:\n",
    "    def __init__(self):\n",
    "        self.name=\"Marry\"\n",
    "        \n",
    "      \n"
   ]
  },
  {
   "cell_type": "code",
   "execution_count": 41,
   "id": "161b78b1-cef0-45dd-8d3e-c53d6218903f",
   "metadata": {},
   "outputs": [],
   "source": [
    "a = 0\n",
    "for i in 'string':\n",
    "    a = a+1"
   ]
  },
  {
   "cell_type": "code",
   "execution_count": 42,
   "id": "81db5cf4-2ce5-4ef9-91ed-e9e8ae2477e9",
   "metadata": {},
   "outputs": [
    {
     "data": {
      "text/plain": [
       "6"
      ]
     },
     "execution_count": 42,
     "metadata": {},
     "output_type": "execute_result"
    }
   ],
   "source": [
    "a"
   ]
  },
  {
   "cell_type": "code",
   "execution_count": null,
   "id": "31780843-cc08-4704-b92c-a9072308b581",
   "metadata": {},
   "outputs": [],
   "source": []
  }
 ],
 "metadata": {
  "kernelspec": {
   "display_name": "Python 3 (ipykernel)",
   "language": "python",
   "name": "python3"
  },
  "language_info": {
   "codemirror_mode": {
    "name": "ipython",
    "version": 3
   },
   "file_extension": ".py",
   "mimetype": "text/x-python",
   "name": "python",
   "nbconvert_exporter": "python",
   "pygments_lexer": "ipython3",
   "version": "3.8.8"
  }
 },
 "nbformat": 4,
 "nbformat_minor": 5
}
