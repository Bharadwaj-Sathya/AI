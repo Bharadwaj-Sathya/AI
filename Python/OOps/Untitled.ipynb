{
 "cells": [
  {
   "cell_type": "markdown",
   "id": "65acdbd4-41f9-432c-b84d-ab38066fe68d",
   "metadata": {},
   "source": [
    "# OOPs"
   ]
  },
  {
   "cell_type": "markdown",
   "id": "2aa20601-077b-41f2-aa23-86de2754c6a2",
   "metadata": {},
   "source": [
    "1. Class\n",
    "2. Objects\n",
    "3. Methods\n",
    "4. Inheritences\n",
    "5. Data Encapsulation\n",
    "6. Polymorphism\n",
    "7. Abstraction"
   ]
  },
  {
   "cell_type": "code",
   "execution_count": 15,
   "id": "f655d0db-eaf2-4754-b709-4b536c85f478",
   "metadata": {},
   "outputs": [],
   "source": [
    "# class\n",
    "\n",
    "class Computer:\n",
    "    # Attributes\n",
    "    # Behaviour\n",
    "    \n",
    "    def __init__(self, processor, ram, storage):\n",
    "        self.processor = processor\n",
    "        self.ram = ram\n",
    "        self.storage = storage\n",
    "    \n",
    "    def config(self):\n",
    "        print(self.processor, self.ram, self.storage)\n",
    "    "
   ]
  },
  {
   "cell_type": "code",
   "execution_count": 17,
   "id": "165513ac-68ce-49fe-9f0c-f18008a05c42",
   "metadata": {},
   "outputs": [
    {
     "name": "stdout",
     "output_type": "stream",
     "text": [
      "i5 16gb 1TB\n"
     ]
    }
   ],
   "source": [
    "# Objects\n",
    "\n",
    "com1 = Computer('i5', '16gb', '1TB')\n",
    "com1.config()"
   ]
  },
  {
   "cell_type": "code",
   "execution_count": 18,
   "id": "205dde2b-420d-481e-bcf5-6c148d0a8793",
   "metadata": {},
   "outputs": [
    {
     "name": "stdout",
     "output_type": "stream",
     "text": [
      "Ryzn 3600 8gb 2TB\n"
     ]
    }
   ],
   "source": [
    "com1 = Computer('Ryzn 3600', '8gb', '2TB')\n",
    "com1.config()"
   ]
  },
  {
   "cell_type": "code",
   "execution_count": null,
   "id": "65327761-9085-4b57-90ac-243054289a3f",
   "metadata": {},
   "outputs": [],
   "source": [
    "# Methods\n"
   ]
  }
 ],
 "metadata": {
  "kernelspec": {
   "display_name": "Python 3 (ipykernel)",
   "language": "python",
   "name": "python3"
  },
  "language_info": {
   "codemirror_mode": {
    "name": "ipython",
    "version": 3
   },
   "file_extension": ".py",
   "mimetype": "text/x-python",
   "name": "python",
   "nbconvert_exporter": "python",
   "pygments_lexer": "ipython3",
   "version": "3.8.8"
  }
 },
 "nbformat": 4,
 "nbformat_minor": 5
}
