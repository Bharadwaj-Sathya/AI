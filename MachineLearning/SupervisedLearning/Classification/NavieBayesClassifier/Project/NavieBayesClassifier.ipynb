{
 "cells": [
  {
   "cell_type": "markdown",
   "id": "8da53c6a-6e45-40bc-b38f-1467841944ef",
   "metadata": {},
   "source": [
    "# Navie Bayes Classifier"
   ]
  },
  {
   "cell_type": "code",
   "execution_count": null,
   "id": "c0858e52-ace5-4cff-82a2-7f3c6c90000c",
   "metadata": {},
   "outputs": [],
   "source": []
  }
 ],
 "metadata": {
  "kernelspec": {
   "display_name": "Python 3 (ipykernel)",
   "language": "python",
   "name": "python3"
  },
  "language_info": {
   "codemirror_mode": {
    "name": "ipython",
    "version": 3
   },
   "file_extension": ".py",
   "mimetype": "text/x-python",
   "name": "python",
   "nbconvert_exporter": "python",
   "pygments_lexer": "ipython3",
   "version": "3.8.8"
  }
 },
 "nbformat": 4,
 "nbformat_minor": 5
}
