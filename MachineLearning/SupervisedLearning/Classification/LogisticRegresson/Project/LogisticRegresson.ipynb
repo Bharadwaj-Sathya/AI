{
 "cells": [
  {
   "cell_type": "markdown",
   "id": "fb7747e2-420e-4627-bf67-3171a025599d",
   "metadata": {},
   "source": [
    "# Logistic Regression"
   ]
  },
  {
   "cell_type": "code",
   "execution_count": null,
   "id": "8823a6a6-8304-41dd-9c12-3e6c1bf06d8a",
   "metadata": {},
   "outputs": [],
   "source": []
  }
 ],
 "metadata": {
  "kernelspec": {
   "display_name": "Python 3 (ipykernel)",
   "language": "python",
   "name": "python3"
  },
  "language_info": {
   "codemirror_mode": {
    "name": "ipython",
    "version": 3
   },
   "file_extension": ".py",
   "mimetype": "text/x-python",
   "name": "python",
   "nbconvert_exporter": "python",
   "pygments_lexer": "ipython3",
   "version": "3.8.8"
  }
 },
 "nbformat": 4,
 "nbformat_minor": 5
}
