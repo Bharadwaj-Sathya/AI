{
 "cells": [
  {
   "cell_type": "markdown",
   "id": "0ebd521d-aea5-4c84-aee5-6a27be18b880",
   "metadata": {},
   "source": [
    "# K-NN Algorithm"
   ]
  },
  {
   "cell_type": "code",
   "execution_count": null,
   "id": "34616c60-c67a-4f43-9517-0779fb60e866",
   "metadata": {},
   "outputs": [],
   "source": []
  }
 ],
 "metadata": {
  "kernelspec": {
   "display_name": "Python 3 (ipykernel)",
   "language": "python",
   "name": "python3"
  },
  "language_info": {
   "codemirror_mode": {
    "name": "ipython",
    "version": 3
   },
   "file_extension": ".py",
   "mimetype": "text/x-python",
   "name": "python",
   "nbconvert_exporter": "python",
   "pygments_lexer": "ipython3",
   "version": "3.8.8"
  }
 },
 "nbformat": 4,
 "nbformat_minor": 5
}
