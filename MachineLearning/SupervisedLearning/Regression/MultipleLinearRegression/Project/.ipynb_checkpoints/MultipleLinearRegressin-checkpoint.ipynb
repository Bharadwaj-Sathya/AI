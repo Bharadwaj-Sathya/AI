{
 "cells": [
  {
   "cell_type": "markdown",
   "id": "f2e6ed4c-2ff4-418b-8d54-b28152c688c1",
   "metadata": {},
   "source": [
    "# Multiple Linear Regression"
   ]
  },
  {
   "cell_type": "markdown",
   "id": "a418db23-2d1b-4fb2-aa64-507e0e8a2445",
   "metadata": {},
   "source": [
    "## Predicting Food Prices in Nigreia\n",
    "- The Economics of Eating: Predicting Food Price Trends in Nigeria\n",
    "- This dataset contains Food Prices data for Nigeria, sourced from the World Food Programme Price Database. The World Food Programme Price Database covers foods such as maize, rice, beans, fish, and sugar for 98 countries and some 3000 markets. It is updated weekly but contains to a large extent monthly data. The data goes back as far as 1992 for a few countries, although many countries started reporting from 2003 or thereafter."
   ]
  },
  {
   "cell_type": "markdown",
   "id": "556fba29-3689-4d7e-87ab-f0a6816f7533",
   "metadata": {},
   "source": [
    "### Data Preprocessing\n",
    "\n",
    "#### It is a data mining technique that transforms raw data into an understandable format. Raw data(real world data) is always incomplete and that data cannot be sent through a model. That would cause certain errors. That is why we need to preprocess data before sending through a model.\n",
    "\n",
    "Steps in Data Preprocessing These are the steps:\n",
    "\n",
    "    Import libraries\n",
    "    Import dataset\n",
    "    Finding for missing values\n",
    "    Encoding categorical data\n",
    "    Data splitting\n",
    "    Feature Scaling"
   ]
  },
  {
   "cell_type": "code",
   "execution_count": 2,
   "id": "081ab7fb-9893-48b6-be3f-0661e36413d1",
   "metadata": {},
   "outputs": [],
   "source": [
    "import pandas as pd\n",
    "import numpy as np\n",
    "\n",
    "# Plotting\n",
    "import matplotlib.pyplot as plt\n",
    "import seaborn as sns\n",
    "\n",
    "from sklearn.preprocessing import LabelEncoder, OneHotEncoder\n",
    "\n",
    "# Documentation\n",
    "import handcalcs.render\n",
    "\n",
    "# Plot\n",
    "%matplotlib inline\n",
    "import matplotlib.pyplot as plt\n",
    "from matplotlib import cm # color map\n",
    "import seaborn as sns\n",
    "\n",
    "from sympy import Sum, symbols, Indexed, lambdify, diff\n",
    "from sklearn.metrics import r2_score\n",
    "from sklearn.model_selection import train_test_split\n",
    "from mpl_toolkits.mplot3d.axes3d import Axes3D\n",
    "from sklearn.linear_model import LinearRegression\n",
    "from sklearn.metrics import mean_squared_error"
   ]
  },
  {
   "cell_type": "code",
   "execution_count": 3,
   "id": "8502ba34-de14-4820-ac5c-75d419c678e2",
   "metadata": {},
   "outputs": [],
   "source": [
    "# Path\n",
    "data_path = './Data/'"
   ]
  },
  {
   "cell_type": "code",
   "execution_count": 4,
   "id": "dbdd19b2-56d2-4a3d-99d6-29cfb224e57c",
   "metadata": {},
   "outputs": [
    {
     "name": "stderr",
     "output_type": "stream",
     "text": [
      "C:\\Users\\bhara\\AppData\\Local\\Temp\\ipykernel_8304\\1324058062.py:1: DtypeWarning: Columns (4,5,12,13) have mixed types. Specify dtype option on import or set low_memory=False.\n",
      "  data = pd.read_csv(data_path+\"wfp_food_prices_nga.csv\").reset_index(drop=True)\n"
     ]
    },
    {
     "data": {
      "text/plain": [
       "(80982, 14)"
      ]
     },
     "execution_count": 4,
     "metadata": {},
     "output_type": "execute_result"
    }
   ],
   "source": [
    "data = pd.read_csv(data_path+\"wfp_food_prices_nga.csv\",  low_memory=False).reset_index(drop=True)\n",
    "data.shape"
   ]
  },
  {
   "cell_type": "code",
   "execution_count": null,
   "id": "369ec030-68d1-4f44-9767-b3546856b732",
   "metadata": {},
   "outputs": [],
   "source": []
  }
 ],
 "metadata": {
  "kernelspec": {
   "display_name": "Python 3 (ipykernel)",
   "language": "python",
   "name": "python3"
  },
  "language_info": {
   "codemirror_mode": {
    "name": "ipython",
    "version": 3
   },
   "file_extension": ".py",
   "mimetype": "text/x-python",
   "name": "python",
   "nbconvert_exporter": "python",
   "pygments_lexer": "ipython3",
   "version": "3.9.16"
  }
 },
 "nbformat": 4,
 "nbformat_minor": 5
}
