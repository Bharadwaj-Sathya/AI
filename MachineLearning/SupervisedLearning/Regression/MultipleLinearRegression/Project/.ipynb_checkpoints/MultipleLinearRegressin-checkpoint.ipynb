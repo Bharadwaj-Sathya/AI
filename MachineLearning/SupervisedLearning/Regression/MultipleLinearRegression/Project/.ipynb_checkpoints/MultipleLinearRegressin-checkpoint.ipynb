{
 "cells": [
  {
   "cell_type": "markdown",
   "id": "f2e6ed4c-2ff4-418b-8d54-b28152c688c1",
   "metadata": {},
   "source": [
    "# Multiple Linear Regression"
   ]
  },
  {
   "cell_type": "markdown",
   "id": "a418db23-2d1b-4fb2-aa64-507e0e8a2445",
   "metadata": {},
   "source": [
    "## Predicting Food Prices in Nigreia\n",
    "- The Economics of Eating: Predicting Food Price Trends in Nigeria\n",
    "- This dataset contains Food Prices data for Nigeria, sourced from the World Food Programme Price Database. The World Food Programme Price Database covers foods such as maize, rice, beans, fish, and sugar for 98 countries and some 3000 markets. It is updated weekly but contains to a large extent monthly data. The data goes back as far as 1992 for a few countries, although many countries started reporting from 2003 or thereafter."
   ]
  },
  {
   "cell_type": "markdown",
   "id": "556fba29-3689-4d7e-87ab-f0a6816f7533",
   "metadata": {},
   "source": [
    "## Exploratory Data Analysis: Unveiling Patterns and Insights\n",
    "\n",
    "    1. Introduction\n",
    "        Exploratory Data Analysis (EDA) is a crucial phase in the data analysis pipeline, serving as the foundation for making informed decisions and deriving meaningful insights from raw data. This document aims to provide a comprehensive understanding of the EDA process, its importance, and the key techniques involved.\n",
    "\n",
    "    2. Objectives of Exploratory Data Analysis\n",
    "        1. Understand Data Characteristics:\n",
    "            Gain insights into the distribution, central tendency, and variability of the data.\n",
    "            Identify the presence of missing values, outliers, and anomalies.\n",
    "\n",
    "        2. Explore Relationships:\n",
    "            Examine correlations and dependencies between different variables.\n",
    "            Uncover potential patterns and trends within the dataset.\n",
    "        \n",
    "        3. Visualize Data Distributions:\n",
    "            Utilize graphical representations to visualize the distribution of data.\n",
    "            Choose appropriate plots such as histograms, box plots, and scatter plots.\n",
    "            \n",
    "        4. Identify Patterns and Anomalies:\n",
    "            Uncover hidden patterns that may not be apparent in raw data.\n",
    "            Detect outliers and anomalies that could impact analysis outcomes.\n",
    "            \n",
    "            \n",
    "    3. Techniques and Tools\n",
    "        1. Descriptive Statistics:\n",
    "            Calculate measures such as mean, median, and standard deviation.\n",
    "            Utilize summary statistics to provide an overview of the dataset.\n",
    "            Data Visualization:\n",
    "\n",
    "            Employ graphical representations like histograms, box plots, and scatter plots.\n",
    "            Create visualizations to illustrate trends, patterns, and relationships.\n",
    "            Correlation Analysis:\n",
    "\n",
    "            Use correlation matrices to quantify the relationships between variables.\n",
    "            Identify strong positive/negative correlations and potential multicollinearity.\n",
    "            Outlier Detection:\n",
    "\n",
    "            Apply statistical methods or visual inspection to identify outliers.\n",
    "            Assess the impact of outliers on the analysis and consider appropriate handling.\n",
    "\n",
    "    4. Steps in Exploratory Data Analysis\n",
    "        1. Data Collection:\n",
    "            Gather the raw dataset from reliable sources.\n",
    "\n",
    "        2. Data Cleaning:\n",
    "            Handle missing values, duplicate entries, and inconsistencies.\n",
    "            Ensure data is in a suitable format for analysis.\n",
    "\n",
    "        3. Descriptive Statistics:\n",
    "            Compute basic statistics to describe the central tendency and dispersion.\n",
    "\n",
    "        4. Visualization:\n",
    "            Generate visualizations to explore data distributions and relationships.\n",
    "\n",
    "        5. Correlation Analysis:\n",
    "            Investigate correlations between variables.\n",
    "\n",
    "        6. Outlier Detection:\n",
    "            Identify and analyze outliers to understand their impact.\n",
    "\n",
    "    5. Case Study: Applying EDA to Real-World Data\n",
    "        Provide a practical example where EDA is applied to a specific dataset, showcasing the step-by-step process and the insights gained.\n",
    "\n",
    "    6. Conclusion\n",
    "        Summarize the key findings from the EDA process and emphasize its importance in guiding subsequent data analysis and decision-making.\n",
    "\n",
    "    7. References\n",
    "        Include references to any tools, libraries, or methodologies used in the EDA process.\n"
   ]
  },
  {
   "cell_type": "markdown",
   "id": "95af7537-497f-4d5b-8b46-de811261b1b4",
   "metadata": {},
   "source": [
    "### Import Libraries"
   ]
  },
  {
   "cell_type": "code",
   "execution_count": null,
   "id": "081ab7fb-9893-48b6-be3f-0661e36413d1",
   "metadata": {},
   "outputs": [],
   "source": [
    "import pandas as pd\n",
    "import numpy as np\n",
    "\n",
    "# Plotting\n",
    "import matplotlib.pyplot as plt\n",
    "import seaborn as sns\n",
    "\n",
    "from sklearn.preprocessing import LabelEncoder, OneHotEncoder\n",
    "\n",
    "# Documentation\n",
    "import handcalcs.render\n",
    "\n",
    "# Plot\n",
    "%matplotlib inline\n",
    "import matplotlib.pyplot as plt\n",
    "from matplotlib import cm # color map\n",
    "import seaborn as sns\n",
    "import plotly.express as px\n",
    "\n",
    "\n",
    "from sympy import Sum, symbols, Indexed, lambdify, diff\n",
    "from sklearn.metrics import r2_score\n",
    "from sklearn.model_selection import train_test_split\n",
    "from mpl_toolkits.mplot3d.axes3d import Axes3D\n",
    "from sklearn.linear_model import LinearRegression\n",
    "from sklearn.metrics import mean_squared_error\n",
    "from sklearn.preprocessing import LabelEncoder"
   ]
  },
  {
   "cell_type": "code",
   "execution_count": null,
   "id": "8502ba34-de14-4820-ac5c-75d419c678e2",
   "metadata": {},
   "outputs": [],
   "source": [
    "# Path\n",
    "data_path = './Data/'"
   ]
  },
  {
   "cell_type": "markdown",
   "id": "563051fd-a242-430d-854c-2594cf49dc5c",
   "metadata": {},
   "source": [
    "### Import Dataset"
   ]
  },
  {
   "cell_type": "code",
   "execution_count": null,
   "id": "dbdd19b2-56d2-4a3d-99d6-29cfb224e57c",
   "metadata": {},
   "outputs": [],
   "source": [
    "raw_data = pd.read_csv(data_path+\"wfp_food_prices_nga.csv\",  low_memory=False).reset_index(drop=True)\n",
    "raw_data.shape"
   ]
  },
  {
   "cell_type": "code",
   "execution_count": null,
   "id": "369ec030-68d1-4f44-9767-b3546856b732",
   "metadata": {},
   "outputs": [],
   "source": [
    "raw_data"
   ]
  },
  {
   "cell_type": "code",
   "execution_count": null,
   "id": "bb83cc03-9413-4597-8506-9b91923bc151",
   "metadata": {},
   "outputs": [],
   "source": [
    "column_info = raw_data.iloc[0]\n",
    "column_info"
   ]
  },
  {
   "cell_type": "code",
   "execution_count": null,
   "id": "bc2a0931-305c-40eb-b734-90bece1e5599",
   "metadata": {},
   "outputs": [],
   "source": [
    "raw_data = raw_data.drop(0).reset_index(drop=True)\n",
    "raw_data"
   ]
  },
  {
   "cell_type": "code",
   "execution_count": null,
   "id": "58f39c56-a73f-4bc6-91f0-5504fc11d7d2",
   "metadata": {},
   "outputs": [],
   "source": [
    "# Rename the columns\n",
    "raw_data.rename(columns={ 'date': 'Date', 'admin1': 'Admin1', 'admin2': 'Admin2', 'market': 'Market', 'latitude': 'Latitude', 'longitude': 'Longitude', 'category': 'Category', \n",
    "                     'commodity': 'Commodity', 'unit': 'Unit', 'priceflag': 'Price_Flag', 'pricetype': 'Price_Type', 'currency': 'Currency', 'price': 'Price', 'usdprice':'USD_Price' }, inplace=True)\n",
    "raw_data.columns"
   ]
  },
  {
   "cell_type": "code",
   "execution_count": null,
   "id": "182e3f2a-2d4e-49a6-88f9-2110c329c1d9",
   "metadata": {},
   "outputs": [],
   "source": [
    "raw_data.info()"
   ]
  },
  {
   "cell_type": "code",
   "execution_count": null,
   "id": "e25e6dd9-4635-489f-95b3-367cb3bce6cb",
   "metadata": {},
   "outputs": [],
   "source": [
    "raw_data['Date'] = raw_data['Date'].astype('datetime64[ns]')\n",
    "raw_data['Latitude'] = raw_data['Latitude'].astype(float)\n",
    "raw_data['Longitude'] = raw_data['Longitude'].astype(float)\n",
    "raw_data['Price'] = raw_data['Price'].astype(float)\n",
    "raw_data['USD_Price'] = raw_data['USD_Price'].astype(float)"
   ]
  },
  {
   "cell_type": "code",
   "execution_count": null,
   "id": "6baf133e-8f74-488e-ba02-b31c59e3a162",
   "metadata": {},
   "outputs": [],
   "source": [
    "raw_data"
   ]
  },
  {
   "cell_type": "code",
   "execution_count": null,
   "id": "efd6d48a-c76f-4617-905b-5748636b644c",
   "metadata": {},
   "outputs": [],
   "source": [
    "raw_data.describe()"
   ]
  },
  {
   "cell_type": "code",
   "execution_count": null,
   "id": "2e352ec7-f7ed-45dc-b615-facb86695e6e",
   "metadata": {},
   "outputs": [],
   "source": [
    "raw_data.nunique()"
   ]
  },
  {
   "cell_type": "markdown",
   "id": "50609af5-e2e2-4219-85e5-a89df40b0e18",
   "metadata": {
    "tags": []
   },
   "source": [
    "### Finding for missing values"
   ]
  },
  {
   "cell_type": "code",
   "execution_count": null,
   "id": "f3ca2803-c50e-40a4-aa0f-e2a774a846ae",
   "metadata": {},
   "outputs": [],
   "source": [
    "raw_data.isnull().sum()"
   ]
  },
  {
   "cell_type": "code",
   "execution_count": null,
   "id": "0a42a033-98a9-4583-ba97-5752c5746549",
   "metadata": {},
   "outputs": [],
   "source": [
    "for column in raw_data.columns:\n",
    "    if column not in ['Date', 'Latitude', 'Longitude', 'Price', 'USD_Price']:\n",
    "        print(\"-------------------------------------------------\",column,\" - \",len(raw_data[column].unique()),\"---------------------------------------------------\")\n",
    "        print(raw_data[column].unique())\n",
    "        print(\"--------------------------------------------------------------------------------------------------------------\")\n",
    "        "
   ]
  },
  {
   "cell_type": "code",
   "execution_count": null,
   "id": "3279d9bf-58fd-4b6c-bb4e-cb0e1d236096",
   "metadata": {},
   "outputs": [],
   "source": [
    "raw_data.Category.value_counts()"
   ]
  },
  {
   "cell_type": "code",
   "execution_count": null,
   "id": "47eb6fda-262b-496f-aebf-5fdd1f0b8e6c",
   "metadata": {},
   "outputs": [],
   "source": [
    "raw_data.Commodity.value_counts()"
   ]
  },
  {
   "cell_type": "code",
   "execution_count": null,
   "id": "08c6f019-f0b5-47ba-8697-b57d02aa0ed5",
   "metadata": {},
   "outputs": [],
   "source": [
    "raw_data['Unit'].value_counts()"
   ]
  },
  {
   "cell_type": "code",
   "execution_count": null,
   "id": "bd1adf7b-d21f-427a-9cbe-6862204dbb8a",
   "metadata": {},
   "outputs": [],
   "source": [
    "raw_data['Price_Flag'].value_counts()"
   ]
  },
  {
   "cell_type": "code",
   "execution_count": null,
   "id": "d583a6cb-bd53-436e-aef5-bac6edb6fa0a",
   "metadata": {},
   "outputs": [],
   "source": [
    "raw_data['Price_Type'].value_counts()"
   ]
  },
  {
   "cell_type": "code",
   "execution_count": null,
   "id": "57f9f213-e029-4f09-bde4-cefba982296a",
   "metadata": {},
   "outputs": [],
   "source": [
    "# Removing Outlier column\n",
    "raw_data.drop('Currency',  axis=1, inplace=True)"
   ]
  },
  {
   "cell_type": "markdown",
   "id": "888d1c50-c127-4917-b4df-b78298d67cb0",
   "metadata": {},
   "source": [
    "### Encoding categorical data\n",
    "\n",
    "Encoding categorical data is a crucial step in preparing data for machine learning models, as many algorithms require numerical input. Categorical data represents variables that can take on a limited, and usually fixed, number of values. There are several common techniques for encoding categorical data:\n",
    "\n",
    "1. Label Encoding:\n",
    "    - Assigns a unique integer to each category.\n",
    "    - Suitable for ordinal data where the order matters.\n",
    "    - Sklearn provides LabelEncoder for this purpose.\n",
    "<br></br>\n",
    "2. One-Hot Encoding:\n",
    "    - Creates binary columns for each category and represents the presence of a category with a 1.\n",
    "    - Suitable for nominal data where there is no inherent order.\n",
    "<br></br>\n",
    "3. Ordinal Encoding:\n",
    "    - Manually assign numerical values based on the order of categories.\n",
    "    - Useful when there is an inherent order among categories.\n",
    "<br></br>   \n",
    "4. Binary Encoding:\n",
    "    - Converts categories into binary code.\n",
    "    - Reduces the number of columns compared to one-hot encoding.\n",
    "<br></br>\n",
    "5. Hashing Encoding:\n",
    "    - Converts categories into a fixed-size hash, useful when dealing with high cardinality."
   ]
  },
  {
   "cell_type": "code",
   "execution_count": null,
   "id": "29e45210-8eab-41f4-861b-ea990f0a08d9",
   "metadata": {},
   "outputs": [],
   "source": [
    "pd.get_dummies(raw_data['Category'])"
   ]
  },
  {
   "cell_type": "code",
   "execution_count": null,
   "id": "94d0a476-09bd-49b4-95f5-1dd039fd0976",
   "metadata": {},
   "outputs": [],
   "source": [
    "pd.get_dummies(raw_data['Price_Flag'])"
   ]
  },
  {
   "cell_type": "code",
   "execution_count": null,
   "id": "f59a3736-38e0-417b-8bcb-b2ec44164c9a",
   "metadata": {},
   "outputs": [],
   "source": [
    "pd.get_dummies(raw_data['Price_Type'])"
   ]
  },
  {
   "cell_type": "code",
   "execution_count": null,
   "id": "631773fa-131a-4729-9b75-d5fbde2c6509",
   "metadata": {},
   "outputs": [],
   "source": [
    "pd.get_dummies(raw_data['Unit'])"
   ]
  },
  {
   "cell_type": "code",
   "execution_count": null,
   "id": "64b133e2-37b7-4b19-99fb-fbc250129547",
   "metadata": {},
   "outputs": [],
   "source": [
    "# This data has been seperated as test data because the price has to be predicted\n",
    "test_data = raw_data[raw_data['Price_Flag'] == 'forecast'].reset_index(drop=True)\n",
    "test_data"
   ]
  },
  {
   "cell_type": "code",
   "execution_count": null,
   "id": "a1fe1db4-b5be-4488-a1aa-791312c56233",
   "metadata": {},
   "outputs": [],
   "source": [
    "raw_data = raw_data[raw_data['Price_Flag'] != 'forecast'].reset_index(drop=True)\n",
    "raw_data"
   ]
  },
  {
   "cell_type": "markdown",
   "id": "c0baaf50-7ad7-4ec0-a923-4ba217da3d06",
   "metadata": {},
   "source": [
    "### One-Hot Encoding"
   ]
  },
  {
   "cell_type": "code",
   "execution_count": null,
   "id": "dff7979a-bf08-490f-af6f-5aed612d544a",
   "metadata": {},
   "outputs": [],
   "source": [
    "encoder = OneHotEncoder()"
   ]
  },
  {
   "cell_type": "code",
   "execution_count": null,
   "id": "545b7f76-ef9d-486f-8226-f308efcfe704",
   "metadata": {},
   "outputs": [],
   "source": [
    "def encoding_categorical_data(df, column):\n",
    "    df = pd.concat([df, pd.DataFrame(encoder.fit_transform(df[[column]]).toarray(), columns=encoder.get_feature_names_out([column])).astype(int)], axis=1) \n",
    "    # Removing un necessary column\n",
    "    df.drop(column,  axis=1, inplace=True)\n",
    "    return df"
   ]
  },
  {
   "cell_type": "code",
   "execution_count": null,
   "id": "6c70cfec-c890-4417-8b91-ac33156332c6",
   "metadata": {},
   "outputs": [],
   "source": [
    "data = raw_data.copy()\n",
    "for col in ['Price_Type', 'Price_Flag', 'Unit', 'Commodity', 'Category']:\n",
    "    data = encoding_categorical_data(data, col)\n",
    "    \n",
    "for col in ['Price_Type', 'Price_Flag', 'Unit', 'Commodity', 'Category']:\n",
    "    test_data = encoding_categorical_data(test_data, col)"
   ]
  },
  {
   "cell_type": "code",
   "execution_count": null,
   "id": "c7c3f46e-736f-436e-869d-3a8d385cc5fb",
   "metadata": {},
   "outputs": [],
   "source": [
    "data.shape"
   ]
  },
  {
   "cell_type": "code",
   "execution_count": null,
   "id": "3ca1fea4-4ec1-41b6-bde1-2daf3bb0f59e",
   "metadata": {},
   "outputs": [],
   "source": [
    "data.info()"
   ]
  },
  {
   "cell_type": "code",
   "execution_count": null,
   "id": "9ede171e-30e9-46ee-a505-4f6c45b89fc2",
   "metadata": {},
   "outputs": [],
   "source": [
    "data.describe()"
   ]
  },
  {
   "cell_type": "code",
   "execution_count": null,
   "id": "53a38075-0938-481c-b706-b7cc6fe6162b",
   "metadata": {},
   "outputs": [],
   "source": [
    "test_data.info()"
   ]
  },
  {
   "cell_type": "code",
   "execution_count": null,
   "id": "08a82df5-fb72-4965-b28c-04ed12bcd9fe",
   "metadata": {},
   "outputs": [],
   "source": [
    "data"
   ]
  },
  {
   "cell_type": "code",
   "execution_count": null,
   "id": "07214eca-37c4-4137-bc72-b65f5510b70e",
   "metadata": {},
   "outputs": [],
   "source": [
    "data = data.drop(['Date', 'Admin1', 'Admin2', 'Market'], axis=1)"
   ]
  },
  {
   "cell_type": "markdown",
   "id": "bd1ed003-889a-4209-b339-dc91877d022e",
   "metadata": {},
   "source": [
    "### Data Exploration"
   ]
  },
  {
   "cell_type": "code",
   "execution_count": null,
   "id": "9fb02922-7898-4713-9504-ec97701914cb",
   "metadata": {},
   "outputs": [],
   "source": [
    "# Adjusting figure size (set this before creating the plot)\n",
    "plt.figure(figsize=(18, 5))  # You can adjust the width and height as needed\n",
    "\n",
    "# Choose a color palette with fewer colors\n",
    "palette = sns.color_palette(\"Set1\", len(data['Category'].unique()))\n",
    "\n",
    "# Get the top 8 categories (you can adjust the number as needed)\n",
    "top_categories = data['Category'].value_counts().index\n",
    "\n",
    "# Filter the data to include only the top categories\n",
    "filtered_data = data[data['Category'].isin(top_categories)]\n",
    "\n",
    "# Creating the bar plot with different colors for each category\n",
    "sns.barplot(x='Category', y='USD_Price', hue='Category', data=filtered_data, palette=palette)\n",
    "\n",
    "# Adding titles and labels\n",
    "plt.title('Bar Plot of USD Price by Category')\n",
    "plt.xlabel('Category')\n",
    "plt.ylabel('USD Price')\n",
    "\n",
    "# Creating a custom legend with colors\n",
    "legend_handles = [plt.Line2D([0], [0], color=palette[i], lw=4) for i, _ in enumerate(top_categories)]\n",
    "plt.legend(legend_handles, top_categories, title='Category')\n",
    "\n",
    "# Show the plot\n",
    "plt.show()"
   ]
  },
  {
   "cell_type": "code",
   "execution_count": null,
   "id": "0027b02f-7315-43a9-961c-c36c7da7e01d",
   "metadata": {},
   "outputs": [],
   "source": [
    "# Adjusting figure size (set this before creating the plot)\n",
    "plt.figure(figsize=(10, 18))  # Swapping width and height for a horizontal plot\n",
    "\n",
    "# Get the top categories\n",
    "top_categories = data['Commodity'].value_counts().index\n",
    "\n",
    "# Filter the data to include only the top categories\n",
    "filtered_data = data[data['Commodity'].isin(top_categories)]\n",
    "\n",
    "# Creating the horizontal bar plot with different colors for each category\n",
    "sns.barplot(x='USD Price', y='Commodity', hue='Commodity', data=filtered_data)\n",
    "\n",
    "# Adding titles and labels\n",
    "plt.title('Plot of USD Price by Commodity')\n",
    "plt.xlabel('USD_Price')\n",
    "plt.ylabel('Commodity')\n",
    "\n",
    "# Creating a custom legend with colors\n",
    "legend_handles = [plt.Line2D([0], [0], marker='o', color='w', markerfacecolor=sns.color_palette()[i % len(sns.color_palette())], markersize=10) for i, _ in enumerate(top_categories)]\n",
    "plt.legend(legend_handles, top_categories, title='Commodity')\n",
    "\n",
    "# Show the plot\n",
    "plt.show()"
   ]
  },
  {
   "cell_type": "code",
   "execution_count": null,
   "id": "93809556-889e-4388-a70c-1aa680771069",
   "metadata": {},
   "outputs": [],
   "source": [
    "\n",
    "# Adjusting figure size (set this before creating the plot)\n",
    "plt.figure(figsize=(14, 5))\n",
    "\n",
    "# Choose a color palette with fewer colors\n",
    "palette = sns.color_palette(\"Set1\", len(data['Price_Type'].unique()))\n",
    "\n",
    "# Get Price Type \n",
    "top_price_type = data['Price_Type'].value_counts().index\n",
    "\n",
    "# Filter the data to include only the top Price Type\n",
    "filtered_data = data[data['Price_Type'].isin(top_price_type)]\n",
    "\n",
    "# Creating the bar plot with different colors for each Price Type\n",
    "ax = sns.barplot(x='Price_Type', y='USD_Price', hue='Price_Type', data=filtered_data, palette=palette)\n",
    "\n",
    "# Adding titles and labels\n",
    "plt.title('USD Price by Price Type')\n",
    "plt.xlabel('Price Type')\n",
    "plt.ylabel('USD Price')\n",
    "\n",
    "# Creating a custom legend with colors\n",
    "legend_handles = [plt.Line2D([0], [0], color=palette[i], lw=4) for i, _ in enumerate(top_price_type)]\n",
    "plt.legend(legend_handles, top_price_type, title='Price Type')\n",
    "\n",
    "# Adding annotations on top of the bars\n",
    "for p in ax.patches:\n",
    "    ax.annotate(f'{p.get_height():.2f}', (p.get_x() + p.get_width() / 2., p.get_height()),\n",
    "                ha='center', va='center', xytext=(0, 10), textcoords='offset points')\n",
    "\n",
    "# Show the plot\n",
    "plt.show()"
   ]
  },
  {
   "cell_type": "code",
   "execution_count": null,
   "id": "ee542e55-8e6e-452f-a280-5358ca22032c",
   "metadata": {},
   "outputs": [],
   "source": [
    "# Adjusting figure size (set this before creating the plot)\n",
    "plt.figure(figsize=(18, 5))\n",
    "\n",
    "# Creating a histogram with 20 bins\n",
    "sns.histplot(data[\"Price\"], kde=True, bins=10,\n",
    "    stat=\"density\", kde_kws=dict(cut=3),\n",
    "    alpha=.4, edgecolor=(1, 1, 1, .4),)\n",
    "\n",
    "# Adding titles and labels\n",
    "plt.title('Price Distribution')\n",
    "plt.xlabel('Price')\n",
    "plt.ylabel('Frequency')\n",
    "\n",
    "# Show the plot\n",
    "plt.show()"
   ]
  },
  {
   "cell_type": "code",
   "execution_count": null,
   "id": "700fb574-ec99-4a01-a298-211d6929ff34",
   "metadata": {},
   "outputs": [],
   "source": [
    "# Adjusting figure size (set this before creating the plot)\n",
    "plt.figure(figsize=(18, 5))\n",
    "\n",
    "# Creating a histogram with 20 bins\n",
    "sns.histplot(data[\"USD_Price\"], kde=True, bins=10,\n",
    "    stat=\"density\", kde_kws=dict(cut=3),\n",
    "    alpha=.4, edgecolor=(1, 1, 1, .4),)\n",
    "\n",
    "# Adding titles and labels\n",
    "plt.title('USD Price Distribution')\n",
    "plt.xlabel('USD Price')\n",
    "plt.ylabel('Frequency')\n",
    "\n",
    "# Show the plot\n",
    "plt.show()"
   ]
  },
  {
   "cell_type": "code",
   "execution_count": null,
   "id": "a4b4af07-54a0-44a9-8f30-e677e923fffc",
   "metadata": {},
   "outputs": [],
   "source": [
    "# Adjusting figure size (set this before creating the plot)\n",
    "plt.figure(figsize=(18, 5))\n",
    "\n",
    "sns.kdeplot(data[\"USD_Price\"])\n",
    "\n",
    "# Adding titles and labels\n",
    "plt.title('USD Price Distribution')\n",
    "plt.xlabel('USD Price')\n",
    "plt.ylabel('Frequency')\n",
    "\n",
    "# Show the plot\n",
    "plt.show()"
   ]
  },
  {
   "cell_type": "code",
   "execution_count": null,
   "id": "0bd5e93c-293b-450d-9d8e-deb9a65188a3",
   "metadata": {},
   "outputs": [],
   "source": [
    "# Adjusting figure size (set this before creating the plot)\n",
    "plt.figure(figsize=(18, 8))  # Swapping width and height for a horizontal plot\n",
    "sns.scatterplot(x=data['Price'], y=data['Commodity'])\n",
    "plt.title('Scatter Plot of NGN Price vs Commodity')\n",
    "plt.xlabel('Commodity')\n",
    "plt.ylabel('NGN Price')\n",
    "plt.show()"
   ]
  },
  {
   "cell_type": "code",
   "execution_count": null,
   "id": "5b0d6749-8678-417f-843d-a50c5bfea82e",
   "metadata": {},
   "outputs": [],
   "source": [
    "# Adjusting figure size (set this before creating the plot)\n",
    "plt.figure(figsize=(18, 8))  # Swapping width and height for a horizontal plot\n",
    "sns.scatterplot(x=data['USD_Price'], y=data['Commodity'])\n",
    "plt.title('Scatter Plot of USD Price vs Commodity')\n",
    "plt.xlabel('X1')\n",
    "plt.ylabel('y')\n",
    "plt.show()"
   ]
  },
  {
   "cell_type": "code",
   "execution_count": null,
   "id": "f3faef51-6400-4d07-8600-252f027d35f3",
   "metadata": {},
   "outputs": [],
   "source": [
    "sns.pairplot(data)\n",
    "plt.show()"
   ]
  },
  {
   "cell_type": "code",
   "execution_count": null,
   "id": "55dc901f-ebf8-4197-b7f3-e9a91e7f048a",
   "metadata": {},
   "outputs": [],
   "source": [
    "sns.pairplot(data, kind = 'reg' , plot_kws = {'line_kws':{'color': 'red'}})\n",
    "plt.show()"
   ]
  },
  {
   "cell_type": "code",
   "execution_count": null,
   "id": "da2478c3-8069-4766-8e45-d1c6c0e702ff",
   "metadata": {},
   "outputs": [],
   "source": [
    "co_relation = data.corr()"
   ]
  },
  {
   "cell_type": "code",
   "execution_count": null,
   "id": "dd2ca539-feba-4262-94c6-3dca51f5ff1d",
   "metadata": {},
   "outputs": [],
   "source": [
    "plt.figure(figsize=(18, 8))  # Swapping width and height for a horizontal plot\n",
    "sns.heatmap(co_relation, xticklabels=co_relation.columns, yticklabels=co_relation.columns, annot=True)"
   ]
  },
  {
   "cell_type": "markdown",
   "id": "89b979c2-c6ae-4f9c-971e-2e2fa83fd679",
   "metadata": {},
   "source": [
    "###  Data Spliting"
   ]
  },
  {
   "cell_type": "code",
   "execution_count": null,
   "id": "bbef8cdf-213a-44a0-9a45-aeab67a6a6ae",
   "metadata": {},
   "outputs": [],
   "source": []
  }
 ],
 "metadata": {
  "kernelspec": {
   "display_name": "Python 3 (ipykernel)",
   "language": "python",
   "name": "python3"
  },
  "language_info": {
   "codemirror_mode": {
    "name": "ipython",
    "version": 3
   },
   "file_extension": ".py",
   "mimetype": "text/x-python",
   "name": "python",
   "nbconvert_exporter": "python",
   "pygments_lexer": "ipython3",
   "version": "3.9.16"
  }
 },
 "nbformat": 4,
 "nbformat_minor": 5
}
